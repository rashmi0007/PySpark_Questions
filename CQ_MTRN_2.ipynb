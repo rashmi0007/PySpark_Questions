{
 "cells": [
  {
   "cell_type": "code",
   "execution_count": 0,
   "metadata": {
    "application/vnd.databricks.v1+cell": {
     "cellMetadata": {
      "byteLimit": 2048000,
      "rowLimit": 10000
     },
     "inputWidgets": {},
     "nuid": "6c2b923c-0bac-4430-b39b-6779c5db8385",
     "showTitle": false,
     "title": ""
    }
   },
   "outputs": [],
   "source": [
    "# write a PySpark programme to select every 3rd row in the dataset"
   ]
  },
  {
   "cell_type": "code",
   "execution_count": 0,
   "metadata": {
    "application/vnd.databricks.v1+cell": {
     "cellMetadata": {
      "byteLimit": 2048000,
      "rowLimit": 10000
     },
     "inputWidgets": {},
     "nuid": "977e46be-d776-4c1a-bdf6-33e370c4800b",
     "showTitle": false,
     "title": ""
    }
   },
   "outputs": [],
   "source": [
    "from pyspark.sql import SparkSession"
   ]
  },
  {
   "cell_type": "code",
   "execution_count": 0,
   "metadata": {
    "application/vnd.databricks.v1+cell": {
     "cellMetadata": {
      "byteLimit": 2048000,
      "rowLimit": 10000
     },
     "inputWidgets": {},
     "nuid": "8448afec-9c55-4b93-bae0-21f8ea766e47",
     "showTitle": false,
     "title": ""
    }
   },
   "outputs": [],
   "source": [
    "sparky=SparkSession.builder.appName('3rd row').getOrCreate()"
   ]
  },
  {
   "cell_type": "code",
   "execution_count": 0,
   "metadata": {
    "application/vnd.databricks.v1+cell": {
     "cellMetadata": {
      "byteLimit": 2048000,
      "rowLimit": 10000
     },
     "inputWidgets": {},
     "nuid": "3caf70ca-d3c5-4b02-b0f7-c6f636294ccf",
     "showTitle": false,
     "title": ""
    }
   },
   "outputs": [],
   "source": [
    "from pyspark.sql.types import *"
   ]
  },
  {
   "cell_type": "code",
   "execution_count": 0,
   "metadata": {
    "application/vnd.databricks.v1+cell": {
     "cellMetadata": {
      "byteLimit": 2048000,
      "rowLimit": 10000
     },
     "inputWidgets": {},
     "nuid": "967073a3-6a8a-4541-ae08-d226d0e5874c",
     "showTitle": false,
     "title": ""
    }
   },
   "outputs": [],
   "source": [
    "schema=StructType().add(field='emp_id',data_type=IntegerType(),nullable=True)\\\n",
    "    .add(field='name',data_type=StringType(),nullable=True)\\\n",
    "        .add(field='salary',data_type=IntegerType(),nullable=True)"
   ]
  },
  {
   "cell_type": "code",
   "execution_count": 0,
   "metadata": {
    "application/vnd.databricks.v1+cell": {
     "cellMetadata": {
      "byteLimit": 2048000,
      "rowLimit": 10000
     },
     "inputWidgets": {},
     "nuid": "7727c69b-ecbb-4dc0-bcfd-720adf5bbf8d",
     "showTitle": false,
     "title": ""
    }
   },
   "outputs": [],
   "source": [
    "data=[ (1001, \"John Doe\", 50000),\n",
    "       (2001, \"Jane Smith\", 60000),\n",
    "       (1003, \"Michael Johnson\", 75000),\n",
    "       (4000, \"Emily Davis\", 55000),\n",
    "       (1005, \"Robert Brown\", 70000),\n",
    "       (6000, \"Emma Wilson\", 80000),\n",
    "       (1700, \"James Taylor\", 65000),\n",
    "       (8000, \"Olivia Martinez\", 72000),\n",
    "       (2900, \"William Anderson\", 68000),\n",
    "       (3310, \"Sophia Garcia\", 67000)]"
   ]
  },
  {
   "cell_type": "code",
   "execution_count": 0,
   "metadata": {
    "application/vnd.databricks.v1+cell": {
     "cellMetadata": {
      "byteLimit": 2048000,
      "rowLimit": 10000
     },
     "inputWidgets": {},
     "nuid": "972004fa-be11-4e94-9b17-60c2de913792",
     "showTitle": false,
     "title": ""
    }
   },
   "outputs": [
    {
     "output_type": "stream",
     "name": "stdout",
     "output_type": "stream",
     "text": [
      "+------+----------------+------+\n|emp_id|            name|salary|\n+------+----------------+------+\n|  1001|        John Doe| 50000|\n|  2001|      Jane Smith| 60000|\n|  1003| Michael Johnson| 75000|\n|  4000|     Emily Davis| 55000|\n|  1005|    Robert Brown| 70000|\n|  6000|     Emma Wilson| 80000|\n|  1700|    James Taylor| 65000|\n|  8000| Olivia Martinez| 72000|\n|  2900|William Anderson| 68000|\n|  3310|   Sophia Garcia| 67000|\n+------+----------------+------+\n\n"
     ]
    }
   ],
   "source": [
    "df=sparky.createDataFrame(data=data,schema=schema)\n",
    "df.show()"
   ]
  },
  {
   "cell_type": "code",
   "execution_count": 0,
   "metadata": {
    "application/vnd.databricks.v1+cell": {
     "cellMetadata": {
      "byteLimit": 2048000,
      "rowLimit": 10000
     },
     "inputWidgets": {},
     "nuid": "15f50b27-1f24-4aa3-8301-fda722a4534a",
     "showTitle": false,
     "title": ""
    }
   },
   "outputs": [],
   "source": [
    "# functionality - window function,row_number\n",
    "from pyspark.sql.window import Window\n",
    "from pyspark.sql.functions import row_number,monotonically_increasing_id"
   ]
  },
  {
   "cell_type": "code",
   "execution_count": 0,
   "metadata": {
    "application/vnd.databricks.v1+cell": {
     "cellMetadata": {
      "byteLimit": 2048000,
      "rowLimit": 10000
     },
     "inputWidgets": {},
     "nuid": "7b1ad365-a296-49c2-a2fb-2a403e4e9e50",
     "showTitle": false,
     "title": ""
    }
   },
   "outputs": [
    {
     "output_type": "stream",
     "name": "stdout",
     "output_type": "stream",
     "text": [
      "+------+----------------+------+----------+\n|emp_id|            name|salary|row_number|\n+------+----------------+------+----------+\n|  1001|        John Doe| 50000|         1|\n|  2001|      Jane Smith| 60000|         2|\n|  1003| Michael Johnson| 75000|         3|\n|  4000|     Emily Davis| 55000|         4|\n|  1005|    Robert Brown| 70000|         5|\n|  6000|     Emma Wilson| 80000|         6|\n|  1700|    James Taylor| 65000|         7|\n|  8000| Olivia Martinez| 72000|         8|\n|  2900|William Anderson| 68000|         9|\n|  3310|   Sophia Garcia| 67000|        10|\n+------+----------------+------+----------+\n\n"
     ]
    }
   ],
   "source": [
    "window_spec=Window.orderBy(monotonically_increasing_id())\n",
    "df=df.withColumn('row_number',row_number().over(window_spec))\n",
    "df.show()"
   ]
  },
  {
   "cell_type": "code",
   "execution_count": 0,
   "metadata": {
    "application/vnd.databricks.v1+cell": {
     "cellMetadata": {
      "byteLimit": 2048000,
      "rowLimit": 10000
     },
     "inputWidgets": {},
     "nuid": "077901d5-d71c-4930-ab03-071f42174528",
     "showTitle": false,
     "title": ""
    }
   },
   "outputs": [],
   "source": [
    "df1=df.filter(df['row_number']%3==0)"
   ]
  },
  {
   "cell_type": "code",
   "execution_count": 0,
   "metadata": {
    "application/vnd.databricks.v1+cell": {
     "cellMetadata": {
      "byteLimit": 2048000,
      "rowLimit": 10000
     },
     "inputWidgets": {},
     "nuid": "c02710a2-7a46-42c6-aa4e-667032466746",
     "showTitle": false,
     "title": ""
    }
   },
   "outputs": [
    {
     "output_type": "stream",
     "name": "stdout",
     "output_type": "stream",
     "text": [
      "+------+----------------+------+----------+\n|emp_id|            name|salary|row_number|\n+------+----------------+------+----------+\n|  1003| Michael Johnson| 75000|         3|\n|  6000|     Emma Wilson| 80000|         6|\n|  2900|William Anderson| 68000|         9|\n+------+----------------+------+----------+\n\n"
     ]
    }
   ],
   "source": [
    "df1.show()"
   ]
  }
 ],
 "metadata": {
  "application/vnd.databricks.v1+notebook": {
   "dashboards": [],
   "language": "python",
   "notebookMetadata": {
    "pythonIndentUnit": 4
   },
   "notebookName": "CQ_MTRN_2",
   "widgets": {}
  }
 },
 "nbformat": 4,
 "nbformat_minor": 0
}
