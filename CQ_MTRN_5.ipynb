{
 "cells": [
  {
   "cell_type": "code",
   "execution_count": 0,
   "metadata": {
    "application/vnd.databricks.v1+cell": {
     "cellMetadata": {
      "byteLimit": 2048000,
      "rowLimit": 10000
     },
     "inputWidgets": {},
     "nuid": "34154af2-48e4-411e-b220-57f22ae9e706",
     "showTitle": false,
     "title": ""
    }
   },
   "outputs": [],
   "source": [
    "# write a PySpark programme to extract the product_name, year and price"
   ]
  },
  {
   "cell_type": "code",
   "execution_count": 0,
   "metadata": {
    "application/vnd.databricks.v1+cell": {
     "cellMetadata": {
      "byteLimit": 2048000,
      "rowLimit": 10000
     },
     "inputWidgets": {},
     "nuid": "5382ffa4-8ecf-4515-80e4-d6dee362e19f",
     "showTitle": false,
     "title": ""
    }
   },
   "outputs": [],
   "source": [
    "sales_data = [(1,100,2008,10,5000),(2,100,2009,12,5000),(7,200,2011,15,9000)]"
   ]
  },
  {
   "cell_type": "code",
   "execution_count": 0,
   "metadata": {
    "application/vnd.databricks.v1+cell": {
     "cellMetadata": {
      "byteLimit": 2048000,
      "rowLimit": 10000
     },
     "inputWidgets": {},
     "nuid": "4c5d00f2-a871-4295-9e57-fb34d7dcb74e",
     "showTitle": false,
     "title": ""
    }
   },
   "outputs": [],
   "source": [
    "product_data = [(100,\"Nokia\"),(200,\"Apple\"),(300,\"Samsung\")]"
   ]
  },
  {
   "cell_type": "code",
   "execution_count": 0,
   "metadata": {
    "application/vnd.databricks.v1+cell": {
     "cellMetadata": {
      "byteLimit": 2048000,
      "rowLimit": 10000
     },
     "inputWidgets": {},
     "nuid": "a30bb31a-de06-415d-b398-b0f2231f854e",
     "showTitle": false,
     "title": ""
    }
   },
   "outputs": [],
   "source": [
    "sales_schema = \"sale_id INT,product_id INT,year INT,quantity INT,price INT\"\n",
    "product_schema = \"product_id INT,product_name STRING\""
   ]
  },
  {
   "cell_type": "code",
   "execution_count": 0,
   "metadata": {
    "application/vnd.databricks.v1+cell": {
     "cellMetadata": {
      "byteLimit": 2048000,
      "rowLimit": 10000
     },
     "inputWidgets": {},
     "nuid": "faf586d4-a05b-4781-8f48-5538112d2bb1",
     "showTitle": false,
     "title": ""
    }
   },
   "outputs": [],
   "source": [
    "sales=spark.createDataFrame(data=sales_data,schema=sales_schema)\n",
    "product=spark.createDataFrame(data=product_data,schema=product_schema)"
   ]
  },
  {
   "cell_type": "code",
   "execution_count": 0,
   "metadata": {
    "application/vnd.databricks.v1+cell": {
     "cellMetadata": {
      "byteLimit": 2048000,
      "rowLimit": 10000
     },
     "inputWidgets": {},
     "nuid": "ba03a641-b97a-493c-9373-654ead7075cc",
     "showTitle": false,
     "title": ""
    }
   },
   "outputs": [
    {
     "output_type": "stream",
     "name": "stdout",
     "output_type": "stream",
     "text": [
      "+-------+----------+----+--------+-----+\n|sale_id|product_id|year|quantity|price|\n+-------+----------+----+--------+-----+\n|      1|       100|2008|      10| 5000|\n|      2|       100|2009|      12| 5000|\n|      7|       200|2011|      15| 9000|\n+-------+----------+----+--------+-----+\n\n"
     ]
    }
   ],
   "source": [
    "sales.show()"
   ]
  },
  {
   "cell_type": "code",
   "execution_count": 0,
   "metadata": {
    "application/vnd.databricks.v1+cell": {
     "cellMetadata": {
      "byteLimit": 2048000,
      "rowLimit": 10000
     },
     "inputWidgets": {},
     "nuid": "8a9dea7d-4b2b-4f8f-a1d4-1afd235f6240",
     "showTitle": false,
     "title": ""
    }
   },
   "outputs": [
    {
     "output_type": "stream",
     "name": "stdout",
     "output_type": "stream",
     "text": [
      "+----------+------------+\n|product_id|product_name|\n+----------+------------+\n|       100|       Nokia|\n|       200|       Apple|\n|       300|     Samsung|\n+----------+------------+\n\n"
     ]
    }
   ],
   "source": [
    "product.show()"
   ]
  },
  {
   "cell_type": "code",
   "execution_count": 0,
   "metadata": {
    "application/vnd.databricks.v1+cell": {
     "cellMetadata": {
      "byteLimit": 2048000,
      "rowLimit": 10000
     },
     "inputWidgets": {},
     "nuid": "0360afd3-9c7b-4ad0-8711-b745f17dbef6",
     "showTitle": false,
     "title": ""
    }
   },
   "outputs": [
    {
     "output_type": "stream",
     "name": "stdout",
     "output_type": "stream",
     "text": [
      "Help on method join in module pyspark.sql.dataframe:\n\njoin(other: 'DataFrame', on: Union[str, List[str], pyspark.sql.column.Column, List[pyspark.sql.column.Column], NoneType] = None, how: Optional[str] = None) -> 'DataFrame' method of pyspark.sql.dataframe.DataFrame instance\n    Joins with another :class:`DataFrame`, using the given join expression.\n    \n    .. versionadded:: 1.3.0\n    \n    .. versionchanged:: 3.4.0\n        Support Spark Connect.\n    \n    Parameters\n    ----------\n    other : :class:`DataFrame`\n        Right side of the join\n    on : str, list or :class:`Column`, optional\n        a string for the join column name, a list of column names,\n        a join expression (Column), or a list of Columns.\n        If `on` is a string or a list of strings indicating the name of the join column(s),\n        the column(s) must exist on both sides, and this performs an equi-join.\n    how : str, optional\n        default ``inner``. Must be one of: ``inner``, ``cross``, ``outer``,\n        ``full``, ``fullouter``, ``full_outer``, ``left``, ``leftouter``, ``left_outer``,\n        ``right``, ``rightouter``, ``right_outer``, ``semi``, ``leftsemi``, ``left_semi``,\n        ``anti``, ``leftanti`` and ``left_anti``.\n    \n    Returns\n    -------\n    :class:`DataFrame`\n        Joined DataFrame.\n    \n    Examples\n    --------\n    The following performs a full outer join between ``df1`` and ``df2``.\n    \n    >>> from pyspark.sql import Row\n    >>> from pyspark.sql.functions import desc\n    >>> df = spark.createDataFrame([(2, \"Alice\"), (5, \"Bob\")]).toDF(\"age\", \"name\")\n    >>> df2 = spark.createDataFrame([Row(height=80, name=\"Tom\"), Row(height=85, name=\"Bob\")])\n    >>> df3 = spark.createDataFrame([Row(age=2, name=\"Alice\"), Row(age=5, name=\"Bob\")])\n    >>> df4 = spark.createDataFrame([\n    ...     Row(age=10, height=80, name=\"Alice\"),\n    ...     Row(age=5, height=None, name=\"Bob\"),\n    ...     Row(age=None, height=None, name=\"Tom\"),\n    ...     Row(age=None, height=None, name=None),\n    ... ])\n    \n    Inner join on columns (default)\n    \n    >>> df.join(df2, 'name').select(df.name, df2.height).show()\n    +----+------+\n    |name|height|\n    +----+------+\n    | Bob|    85|\n    +----+------+\n    >>> df.join(df4, ['name', 'age']).select(df.name, df.age).show()\n    +----+---+\n    |name|age|\n    +----+---+\n    | Bob|  5|\n    +----+---+\n    \n    Outer join for both DataFrames on the 'name' column.\n    \n    >>> df.join(df2, df.name == df2.name, 'outer').select(\n    ...     df.name, df2.height).sort(desc(\"name\")).show()\n    +-----+------+\n    | name|height|\n    +-----+------+\n    |  Bob|    85|\n    |Alice|  null|\n    | null|    80|\n    +-----+------+\n    >>> df.join(df2, 'name', 'outer').select('name', 'height').sort(desc(\"name\")).show()\n    +-----+------+\n    | name|height|\n    +-----+------+\n    |  Tom|    80|\n    |  Bob|    85|\n    |Alice|  null|\n    +-----+------+\n    \n    Outer join for both DataFrams with multiple columns.\n    \n    >>> df.join(\n    ...     df3,\n    ...     [df.name == df3.name, df.age == df3.age],\n    ...     'outer'\n    ... ).select(df.name, df3.age).show()\n    +-----+---+\n    | name|age|\n    +-----+---+\n    |Alice|  2|\n    |  Bob|  5|\n    +-----+---+\n\n"
     ]
    }
   ],
   "source": [
    "help(product.join)"
   ]
  },
  {
   "cell_type": "code",
   "execution_count": 0,
   "metadata": {
    "application/vnd.databricks.v1+cell": {
     "cellMetadata": {
      "byteLimit": 2048000,
      "rowLimit": 10000
     },
     "inputWidgets": {},
     "nuid": "5f1465e8-b237-49aa-92ab-c72b6bb26b9e",
     "showTitle": false,
     "title": ""
    }
   },
   "outputs": [],
   "source": [
    "joindf=sales.join(product,sales.product_id==product.product_id,how='inner')"
   ]
  },
  {
   "cell_type": "code",
   "execution_count": 0,
   "metadata": {
    "application/vnd.databricks.v1+cell": {
     "cellMetadata": {
      "byteLimit": 2048000,
      "rowLimit": 10000
     },
     "inputWidgets": {},
     "nuid": "b8e4e505-4bf7-43f5-bf3f-6861b47846c5",
     "showTitle": false,
     "title": ""
    }
   },
   "outputs": [
    {
     "output_type": "stream",
     "name": "stdout",
     "output_type": "stream",
     "text": [
      "+-------+----------+----+--------+-----+----------+------------+\n|sale_id|product_id|year|quantity|price|product_id|product_name|\n+-------+----------+----+--------+-----+----------+------------+\n|      1|       100|2008|      10| 5000|       100|       Nokia|\n|      2|       100|2009|      12| 5000|       100|       Nokia|\n|      7|       200|2011|      15| 9000|       200|       Apple|\n+-------+----------+----+--------+-----+----------+------------+\n\n"
     ]
    }
   ],
   "source": [
    "joindf.show()"
   ]
  },
  {
   "cell_type": "code",
   "execution_count": 0,
   "metadata": {
    "application/vnd.databricks.v1+cell": {
     "cellMetadata": {
      "byteLimit": 2048000,
      "rowLimit": 10000
     },
     "inputWidgets": {},
     "nuid": "948ec0f5-a487-4da7-a9ef-f2225928cc59",
     "showTitle": false,
     "title": ""
    }
   },
   "outputs": [],
   "source": [
    "df=joindf.select('product_name','year','price')"
   ]
  },
  {
   "cell_type": "code",
   "execution_count": 0,
   "metadata": {
    "application/vnd.databricks.v1+cell": {
     "cellMetadata": {
      "byteLimit": 2048000,
      "rowLimit": 10000
     },
     "inputWidgets": {},
     "nuid": "d0afc472-7f41-4762-8b1f-6d7e5da64cbe",
     "showTitle": false,
     "title": ""
    }
   },
   "outputs": [
    {
     "output_type": "stream",
     "name": "stdout",
     "output_type": "stream",
     "text": [
      "+------------+----+-----+\n|product_name|year|price|\n+------------+----+-----+\n|       Nokia|2008| 5000|\n|       Nokia|2009| 5000|\n|       Apple|2011| 9000|\n+------------+----+-----+\n\n"
     ]
    }
   ],
   "source": [
    "df.show()"
   ]
  }
 ],
 "metadata": {
  "application/vnd.databricks.v1+notebook": {
   "dashboards": [],
   "language": "python",
   "notebookMetadata": {
    "pythonIndentUnit": 4
   },
   "notebookName": "CQ_MTRN_5",
   "widgets": {}
  }
 },
 "nbformat": 4,
 "nbformat_minor": 0
}
