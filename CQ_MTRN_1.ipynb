{
 "cells": [
  {
   "cell_type": "code",
   "execution_count": 0,
   "metadata": {
    "application/vnd.databricks.v1+cell": {
     "cellMetadata": {
      "byteLimit": 2048000,
      "rowLimit": 10000
     },
     "inputWidgets": {},
     "nuid": "dd298f10-69e0-4e05-b368-190d6a222a72",
     "showTitle": false,
     "title": ""
    }
   },
   "outputs": [],
   "source": [
    "# Write a Pyspark program to rename multiple columns of a data frame.\n",
    "data = [ (1 ,'Neha' , 'IT' ,1000),\\\n",
    "         (2 ,'John' , 'HR' ,1500),\\\n",
    "         (3 ,'David' , 'IT' ,1500)]"
   ]
  },
  {
   "cell_type": "code",
   "execution_count": 0,
   "metadata": {
    "application/vnd.databricks.v1+cell": {
     "cellMetadata": {
      "byteLimit": 2048000,
      "rowLimit": 10000
     },
     "inputWidgets": {},
     "nuid": "8efe1bd9-6202-4209-b648-def3a796fe72",
     "showTitle": false,
     "title": ""
    }
   },
   "outputs": [],
   "source": [
    "# functionality: withColumnRenamed"
   ]
  },
  {
   "cell_type": "code",
   "execution_count": 0,
   "metadata": {
    "application/vnd.databricks.v1+cell": {
     "cellMetadata": {
      "byteLimit": 2048000,
      "rowLimit": 10000
     },
     "inputWidgets": {},
     "nuid": "fc0120aa-6243-4703-b1fa-8ac66b93b4ef",
     "showTitle": false,
     "title": ""
    }
   },
   "outputs": [],
   "source": [
    "df=spark.createDataFrame(data=data,schema=['empid','c1','c2','salary'])"
   ]
  },
  {
   "cell_type": "code",
   "execution_count": 0,
   "metadata": {
    "application/vnd.databricks.v1+cell": {
     "cellMetadata": {
      "byteLimit": 2048000,
      "rowLimit": 10000
     },
     "inputWidgets": {},
     "nuid": "17f9e5bf-2998-48c5-a579-693f411a21c8",
     "showTitle": false,
     "title": ""
    }
   },
   "outputs": [
    {
     "output_type": "stream",
     "name": "stdout",
     "output_type": "stream",
     "text": [
      "+-----+-----+---+------+\n|empid|   c1| c2|salary|\n+-----+-----+---+------+\n|    1| Neha| IT|  1000|\n|    2| John| HR|  1500|\n|    3|David| IT|  1500|\n+-----+-----+---+------+\n\n"
     ]
    }
   ],
   "source": [
    "df.show()"
   ]
  },
  {
   "cell_type": "code",
   "execution_count": 0,
   "metadata": {
    "application/vnd.databricks.v1+cell": {
     "cellMetadata": {
      "byteLimit": 2048000,
      "rowLimit": 10000
     },
     "inputWidgets": {},
     "nuid": "01aa5309-ea85-4953-b571-3c3af77d7e8e",
     "showTitle": false,
     "title": ""
    }
   },
   "outputs": [],
   "source": [
    "df1=df.withColumnRenamed('empid','emp_id').\\\n",
    "    withColumnRenamed('c1','name').\\\n",
    "        withColumnRenamed('c2','dept')"
   ]
  },
  {
   "cell_type": "code",
   "execution_count": 0,
   "metadata": {
    "application/vnd.databricks.v1+cell": {
     "cellMetadata": {
      "byteLimit": 2048000,
      "rowLimit": 10000
     },
     "inputWidgets": {},
     "nuid": "32c45ff1-df5e-49fd-acaa-6120dbf851a2",
     "showTitle": false,
     "title": ""
    }
   },
   "outputs": [
    {
     "output_type": "stream",
     "name": "stdout",
     "output_type": "stream",
     "text": [
      "+------+-----+----+------+\n|emp_id| name|dept|salary|\n+------+-----+----+------+\n|     1| Neha|  IT|  1000|\n|     2| John|  HR|  1500|\n|     3|David|  IT|  1500|\n+------+-----+----+------+\n\n"
     ]
    }
   ],
   "source": [
    "df1.show()"
   ]
  }
 ],
 "metadata": {
  "application/vnd.databricks.v1+notebook": {
   "dashboards": [],
   "language": "python",
   "notebookMetadata": {
    "pythonIndentUnit": 4
   },
   "notebookName": "CQ_MTRN_1",
   "widgets": {}
  }
 },
 "nbformat": 4,
 "nbformat_minor": 0
}
